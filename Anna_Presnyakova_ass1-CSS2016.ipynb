{
 "cells": [
  {
   "cell_type": "code",
   "execution_count": 1,
   "metadata": {
    "collapsed": false
   },
   "outputs": [],
   "source": [
    "#%pylab inline\n",
    "import pandas as pd\n",
    "import numpy as np\n",
    "import networkx as nx\n",
    "from networkx.algorithms import bipartite, clustering, clique\n",
    "import matplotlib.pyplot as plt\n",
    "from collections import Counter\n",
    "import scipy.stats\n",
    "from scipy.stats import entropy\n",
    "%matplotlib inline"
   ]
  },
  {
   "cell_type": "markdown",
   "metadata": {},
   "source": [
    "# Assignment 1\n",
    "\n",
    "Please, answer the question by entering runable python code into the cells. Add comments at the beginning of each cell which list the packages that need to be installed (e.g., pip install collections). Run the code so that the output is visible in the notbook before you submit. The data files which you download should lie in the same directory as the python notebooks (use relative paths!). Use python 3.\n",
    "\n",
    "\n",
    "Submit the notebook (as .ipynb and .pdf) via email to clwagner@uni-koblenz.de until <font color=\"red\">20.5.2016 (midnight ECT)</font>.\n",
    "Subject of email: \"CSS2016 ass 1\"\n",
    "\n",
    "Filename: firstname_lastname_ass1.ipynb \n",
    "\n",
    "\n",
    "## Analyzing Affiliation Networks and Social Networks (15 Points)\n",
    "\n",
    "Download the following 2 datasets about the location-based social networking service Brightkite: http://snap.stanford.edu/data/loc-brightkite.html\n",
    "\n",
    "One of the dataset contains all checkins between April 2008 and October 2010 (4.5 Mio checkins).\n",
    "\n",
    "Beside the checkin data that constitute an affiliation network (two-mode network of users and locations), there is also a social network included  - i.e., a one-mode netowkr of users. It is an undirected one-mode network.\n",
    "\n"
   ]
  },
  {
   "cell_type": "markdown",
   "metadata": {},
   "source": [
    "#### Location Popularity\n",
    "\n",
    "Count the number of distinct brightkite users who checked-in at each location (using python!). What are the top 10 locations---i.e., the locations where most users checked in? Plot the rank ordered frequency distributions of locations (x-axis: locations ranked by the number of distinct users, y-axis: number of distinct users). <font color=\"red\">(2 Points)</font>\n"
   ]
  },
  {
   "cell_type": "code",
   "execution_count": 2,
   "metadata": {
    "collapsed": false
   },
   "outputs": [],
   "source": [
    "df = pd.read_csv(\"Brightkite_totalCheckins.txt\", delimiter=\"\\t\", header=None)\n",
    "df.columns = [\"userid\", \"timestamp\", \"long\", \"lat\", \"locid\"]\n",
    "df=df.drop([\"timestamp\", \"long\", \"lat\"], axis=1)"
   ]
  },
  {
   "cell_type": "code",
   "execution_count": 3,
   "metadata": {
    "collapsed": false
   },
   "outputs": [],
   "source": [
    "df_ = df.groupby(\"locid\")\n",
    "aggr = df_[\"userid\"].agg({'unique_users': pd.Series.nunique, \"all_checkings\": np.count_nonzero}).sort_values(\"unique_users\",  ascending=False )"
   ]
  },
  {
   "cell_type": "code",
   "execution_count": 4,
   "metadata": {
    "collapsed": false
   },
   "outputs": [
    {
     "name": "stdout",
     "output_type": "stream",
     "text": [
      "locid\n",
      "00000000000000000000000000000000    3204\n",
      "ee81ef22a22411ddb5e97f082c799f59    1437\n",
      "ede07eeea22411dda0ef53e233ec57ca    1199\n",
      "ee8b1d0ea22411ddb074dbd65f1665cf     983\n",
      "ee78cc1ca22411dd9b3d576115a846a7     846\n",
      "eefadd1aa22411ddb0fd7f1c9c809c0c     811\n",
      "d12e8e8aa22411dd90196fa5c210e3cc     779\n",
      "b9d89b5ea22411dda5ef27ee20f87cee     728\n",
      "ed58942aa22411dd96ff97a15c29d430     710\n",
      "b9c114f2a22411dda217eb3127033598     576\n",
      "Name: unique_users, dtype: int64\n"
     ]
    }
   ],
   "source": [
    "## cutting long-tail\n",
    "df1 = aggr[aggr.unique_users >= 80]['unique_users']\n",
    "print(df1[:10])"
   ]
  },
  {
   "cell_type": "code",
   "execution_count": 5,
   "metadata": {
    "collapsed": false
   },
   "outputs": [
    {
     "data": {
      "image/png": "[encoded data removed]",
      "text/plain": [
       "<matplotlib.figure.Figure at 0x7f5a52ba1e80>"
      ]
     },
     "metadata": {},
     "output_type": "display_data"
    }
   ],
   "source": [
    "ax = df1.plot()\n",
    "ax.axes.xaxis.set_visible(False)"
   ]
  },
  {
   "cell_type": "markdown",
   "metadata": {},
   "source": [
    "#### Fold Location-User Network\n",
    "\n",
    "Construct an unweighted and undirected two-mode network of brightkite users and locations. A user and a location are connected if the user checked-in at the location at least once. Compute the degree of each location in the two-mode network and list the top 10 location-ids with their corresponding degree. Make a plot that shows the ranked locations (x-axis) and their degree (y-axis).\n",
    "\n",
    "Fold the two-mode network and construct a location network. Since folding the full network is very slow, select only locations where at least 10 users checked in.\n",
    "\n",
    "What are the most central locations in the one-mode network and what does that mean? \n",
    "Use different centrality measures and order nodes by these centralities and print the top 10 nodes for each measure. Discuss for each centrality measure what it does and how you can interpret the results. For example, what does it mean that location X has the highest betweeness centrality? How is location X different from location Y which has the highest degree centrality?\n",
    "<font color=\"red\">(3 Points)</font>"
   ]
  },
  {
   "cell_type": "code",
   "execution_count": 6,
   "metadata": {
    "collapsed": false
   },
   "outputs": [],
   "source": [
    "df_no_dupl = df.drop_duplicates(['locid','userid'])"
   ]
  },
  {
   "cell_type": "code",
   "execution_count": 7,
   "metadata": {
    "collapsed": true
   },
   "outputs": [],
   "source": [
    "lid=list(set(df_no_dupl.locid.values))\n",
    "uid=list(set(df_no_dupl.userid.values)) "
   ]
  },
  {
   "cell_type": "code",
   "execution_count": 8,
   "metadata": {
    "collapsed": true
   },
   "outputs": [],
   "source": [
    "G=nx.Graph()\n",
    "G.add_nodes_from(uid, bipartite=0)\n",
    "G.add_nodes_from(lid, bipartite=1)\n",
    "G.add_edges_from([tuple(x) for x in df_no_dupl.values])"
   ]
  },
  {
   "cell_type": "code",
   "execution_count": 9,
   "metadata": {
    "collapsed": true
   },
   "outputs": [],
   "source": [
    "X, Y = bipartite.sets(G)\n",
    "degX,degY=bipartite.degrees(G,Y)\n",
    "df_deegrees = pd.DataFrame(list(degY.items()), columns=['l','u']).sort_values(by='u', ascending=False).set_index(['l'])\n",
    "df_degrees_without_tail = df_deegrees[df_deegrees.u >= max(df_deegrees.u)*0.04]"
   ]
  },
  {
   "cell_type": "code",
   "execution_count": 10,
   "metadata": {
    "collapsed": false
   },
   "outputs": [
    {
     "data": {
      "image/png": "[encoded data removed]",
      "text/plain": [
       "<matplotlib.figure.Figure at 0x7f5a46a25f60>"
      ]
     },
     "metadata": {},
     "output_type": "display_data"
    },
    {
     "data": {
      "text/plain": [
       "<matplotlib.figure.Figure at 0x7f5a4c2d28d0>"
      ]
     },
     "metadata": {},
     "output_type": "display_data"
    }
   ],
   "source": [
    "ax_degree = df_degrees_without_tail.plot()\n",
    "plt.figure(); ax_degree.plot();\n",
    "plt.setp(ax_degree.get_xticklabels(), visible=False) \n",
    "ax_degree.set_xlabel(\"locations's ids\")\n",
    "ax_degree.set_ylabel(\"locations's degrees\")\n",
    "plt.show()"
   ]
  },
  {
   "cell_type": "code",
   "execution_count": 11,
   "metadata": {
    "collapsed": false
   },
   "outputs": [],
   "source": [
    "to_keep = [n for n in degY if degY[n] > 20]"
   ]
  },
  {
   "cell_type": "markdown",
   "metadata": {},
   "source": [
    "**Note** Unfortunately my laptop is too slow and doesn't perform next operations of folding and calculating centralities measured. Theoretically code should look as below "
   ]
  },
  {
   "cell_type": "code",
   "execution_count": null,
   "metadata": {
    "collapsed": false
   },
   "outputs": [],
   "source": [
    "PG = bipartite.projected_graph(G, to_keep)"
   ]
  },
  {
   "cell_type": "code",
   "execution_count": null,
   "metadata": {
    "collapsed": true
   },
   "outputs": [],
   "source": [
    "d_cent = nx.degree_centrality(G2) #return dictionary"
   ]
  },
  {
   "cell_type": "code",
   "execution_count": null,
   "metadata": {
    "collapsed": true
   },
   "outputs": [],
   "source": [
    "clos_cent = nx.closeness_centrality(G2) #return dictionary"
   ]
  },
  {
   "cell_type": "code",
   "execution_count": null,
   "metadata": {
    "collapsed": true
   },
   "outputs": [],
   "source": [
    "bet_cent = nx.betweenness_centrality(G2) #return dictionary"
   ]
  },
  {
   "cell_type": "code",
   "execution_count": null,
   "metadata": {
    "collapsed": true
   },
   "outputs": [],
   "source": [
    "d_cent_top10 = dict(sorted(d_cent.items(), key=operator.itemgetter(1), reverse=True)[:10])#5 maximum values in a python dictionary\n",
    "clos_cent_top10 = dict(sorted(clos_cent.items(), key=operator.itemgetter(1), reverse=True)[:10])#5 maximum values in a python dictionary\n",
    "bet_cent_top10 = dict(sorted(bet_cent.items(), key=operator.itemgetter(1), reverse=True)[:10])#5 maximum values in a python dictionary"
   ]
  },
  {
   "cell_type": "code",
   "execution_count": null,
   "metadata": {
    "collapsed": true
   },
   "outputs": [],
   "source": [
    "print(d_cent_top10)\n",
    "print(clos_cent_top10)\n",
    "print(bet_cent_top10)"
   ]
  },
  {
   "cell_type": "markdown",
   "metadata": {},
   "source": [
    "#### Answer for the question \n",
    "**Degree centrality**: if node has high number degree centrality, this node is involved in large number of interactions\n",
    "\n",
    "**Closeness centrality**: if node has high number closeness centrality, this node is closer to the other nodes in the network.\n",
    "\n",
    "**Betweenness centrality**: if node has high number betweenness centrality, it means this node will lie on a high proportion of paths between other nodes in the network.\n",
    "\n",
    "Source: https://sites.google.com/site/networkanalysisacourse/schedule/an-introduction-to-centrality-measures"
   ]
  },
  {
   "cell_type": "markdown",
   "metadata": {},
   "source": [
    "#### Entropy of Location Popularity Distribution\n",
    "\n",
    "How evenly distributed is the attention of brightkite users towards locations? The attention a location receives is measured by the number of distinct users who checked in at this loction. Compute the normalized entropy of the degree distribution. The degree of a location corresponds to the number of distinct users who checked in there.\n",
    "\n",
    "To that end, you want to have one vector where each element corresponds to a distinct location. The values for each element are then determined by the number of distinct users that have checked-in at that location. Then, calculate normalized entropy for this vector.\n",
    "\n",
    "Assume we ignore all locations where 0-1 different people checked in. That means we make the long tail of the degree distribution shorter. How would the entropy change? <font color=\"red\">(3 Points)</font>"
   ]
  },
  {
   "cell_type": "code",
   "execution_count": 33,
   "metadata": {
    "collapsed": true
   },
   "outputs": [],
   "source": [
    "list_degrees = df_deegrees['u'].tolist()"
   ]
  },
  {
   "cell_type": "code",
   "execution_count": 34,
   "metadata": {
    "collapsed": false
   },
   "outputs": [
    {
     "name": "stdout",
     "output_type": "stream",
     "text": [
      "normalized entropy for all deegrees: \t 0.966297796132\n",
      "normalized entropy without deegrees < 1: 0.939014387234\n",
      "normalized entropy without deegrees < 10: 0.924992865457\n"
     ]
    }
   ],
   "source": [
    "normalized_entropy_all = entropy(list_degrees, base=2)/np.log2(len(list_degrees))\n",
    "print('normalized entropy for all deegrees: \\t', normalized_entropy_all)\n",
    "list_degree_cut_1 = [i for i in list_degrees if i>1]\n",
    "normalized_entropy_cut_1 = entropy(list_degree_cut_1, base=2)/np.log2(len(list_degree_cut_1))\n",
    "print('normalized entropy without deegrees < 1:', normalized_entropy_cut_1)\n",
    "list_degree_cut_10 = [i for i in list_degrees if i>10]\n",
    "normalized_entropy_cut_10 = entropy(list_degree_cut_10, base=2)/np.log2(len(list_degree_cut_10))\n",
    "print('normalized entropy without deegrees < 10:', normalized_entropy_cut_10)\n",
    "## e=1 maximally impure sample"
   ]
  },
  {
   "cell_type": "markdown",
   "metadata": {},
   "source": [
    "#### Answer to the question\n",
    "The entropy is measure of impurity of distribution. We can see that if entropy is close to 1 it more heterogeneous. If we remove long tail from 1 entropy is slightly decreases for 0.03. However if we remove long tail till 10 it justfor 0.01. It says us that there are more nodes with degree 1 than nodes with degree from 1 to 10."
   ]
  },
  {
   "cell_type": "markdown",
   "metadata": {},
   "source": [
    "#### Describe Location Popularity Distribution\n",
    "\n",
    "In how many distinct locations did users check in on average in brightkite? \n",
    "Create a boxplot that shows the distribution of the number of distinct checkin-locations per user. What is the mean and the variance of this distribution? Compute X for the following statement: Half of the users checked in in more than X locations?  <font color=\"red\">(2 Points)</font>"
   ]
  },
  {
   "cell_type": "code",
   "execution_count": 35,
   "metadata": {
    "collapsed": true
   },
   "outputs": [],
   "source": [
    "df_user_deegrees = pd.DataFrame(list(degX.items()), columns=['u','l']).sort_values(by='l', ascending=False).set_index(['u'])\n",
    "list_user_degrees = df_user_deegrees['l'].tolist()"
   ]
  },
  {
   "cell_type": "code",
   "execution_count": 37,
   "metadata": {
    "collapsed": false
   },
   "outputs": [
    {
     "name": "stdout",
     "output_type": "stream",
     "text": [
      "Mean:      20.76\n",
      "Median:    4.0\n",
      "Std dev:   53.29\n",
      "Variance:  2840.287\n",
      "Mode:      1\n"
     ]
    }
   ],
   "source": [
    "print(\"Mean:     \", np.mean(list_user_degrees).round(2))\n",
    "print(\"Median:   \", np.median(list_user_degrees))\n",
    "print(\"Std dev:  \", np.std(list_user_degrees).round(2))\n",
    "print(\"Variance: \", np.var(list_user_degrees).round(3))\n",
    "state_frequencies = Counter(list_user_degrees)\n",
    "print(\"Mode:     \", state_frequencies.most_common(1)[0][0])"
   ]
  },
  {
   "cell_type": "code",
   "execution_count": 38,
   "metadata": {
    "collapsed": false
   },
   "outputs": [
    {
     "data": {
      "text/plain": [
       "2.0"
      ]
     },
     "execution_count": 38,
     "metadata": {},
     "output_type": "execute_result"
    }
   ],
   "source": [
    "percentile=np.percentile(list_user_degrees, 30)\n",
    "percentile"
   ]
  },
  {
   "cell_type": "markdown",
   "metadata": {},
   "source": [
    "**Answer to the question: **More than 30% of the users checked in in more than 2.0 locations"
   ]
  },
  {
   "cell_type": "markdown",
   "metadata": {},
   "source": [
    "#### Analyzing the boxplots\n",
    "\n",
    "It can be obsereved very long tail on the degree distribution. That is the reason why the first boxplot is hard to read. It only shows big numbers of outliers. I cut the data with high degree and take into account nodes with degree less than our mean. It helps to make the second boxplot more readable. Mean of the second boxplot around 2 and point between 25 and 75 percentiles lies in the range [1-6]"
   ]
  },
  {
   "cell_type": "code",
   "execution_count": 40,
   "metadata": {
    "collapsed": false
   },
   "outputs": [
    {
     "data": {
      "image/png": "[encoded data removed]",
      "text/plain": [
       "<matplotlib.figure.Figure at 0x7f8a91ec6f28>"
      ]
     },
     "metadata": {},
     "output_type": "display_data"
    }
   ],
   "source": [
    "list_user_degrees_cut_1 = [i for i in list_user_degrees if i<20.7]\n",
    "\n",
    "plt.figure(1)\n",
    "plt.subplot(121)\n",
    "plt.boxplot(list_user_degrees)\n",
    "\n",
    "plt.subplot(122)\n",
    "plt.boxplot(list_user_degrees_cut_1)\n",
    "plt.show()"
   ]
  },
  {
   "cell_type": "markdown",
   "metadata": {},
   "source": [
    "#### Describe Social Network\n",
    "\n",
    "Load the full Brightkite social network (loc-brightkite_edges.txt.gz). Describe the network.\n",
    "\n",
    "Some ideas on what you could report: What's the number of nodes, edges and average degree of a node?  What is the size of the largest maximal clique in the network? How well connected is the network? <font color=\"red\">(2 Points)</font>"
   ]
  },
  {
   "cell_type": "code",
   "execution_count": 20,
   "metadata": {
    "collapsed": true
   },
   "outputs": [],
   "source": [
    "df_u = pd.read_table(\"Brightkite_edges.txt\", names=['id_user1','id_user2'],header=None)# nrows=10500"
   ]
  },
  {
   "cell_type": "code",
   "execution_count": 21,
   "metadata": {
    "collapsed": false
   },
   "outputs": [],
   "source": [
    "nodes = list(np.unique(df_u[['id_user1', 'id_user2']].values))\n",
    "GU = nx.Graph()\n",
    "GU.add_nodes_from(nodes)\n",
    "GU.add_edges_from([tuple(x) for x in df_u.values])"
   ]
  },
  {
   "cell_type": "code",
   "execution_count": 22,
   "metadata": {
    "collapsed": false
   },
   "outputs": [
    {
     "name": "stdout",
     "output_type": "stream",
     "text": [
      "Number of nodes:  58228\n",
      "Number of edges:  214078\n"
     ]
    }
   ],
   "source": [
    "num_nodes = nx.number_of_nodes(GU)\n",
    "num_edg2 = nx.number_of_edges(GU)\n",
    "\n",
    "print('Number of nodes: ', num_nodes)\n",
    "print('Number of edges: ', num_edg2)"
   ]
  },
  {
   "cell_type": "code",
   "execution_count": 27,
   "metadata": {
    "collapsed": false
   },
   "outputs": [
    {
     "name": "stdout",
     "output_type": "stream",
     "text": [
      "mean Degree:  7.35\n",
      "Average clustering coefficient:  0.17232592744613315\n",
      "size of the largest maximal clique:  37\n"
     ]
    }
   ],
   "source": [
    "#diam = nx.diameter(GU)\n",
    "#ecc = nx.eccentricity(GU)\n",
    "#rad = nx.radius(GU)\n",
    "mean_degree = sum(list(GU.degree().values()))/float(len(GU))\n",
    "cc_GU = nx.clustering(GU)\n",
    "avg_clust_GU = sum(list(cc_GU.values())) / len(cc_GU)\n",
    "size_l_max_cliq_GU = nx.graph_clique_number(GU)\n",
    "#print('ecc node[11]: ', ecc[10])\n",
    "#print('diam: ', diam)\n",
    "#print('rad: ', rad)\n",
    "print('mean Degree: ', round(mean_degree, 2))\n",
    "print('Average clustering coefficient: ', avg_clust_GU)\n",
    "print('size of the largest maximal clique: ', size_l_max_cliq_GU)"
   ]
  },
  {
   "cell_type": "markdown",
   "metadata": {},
   "source": [
    "#### Draw Social Network\n",
    "\n",
    "Select the top location (i.e., the location where most distinct brightkite user checked in) and filter the brightkite social network (i.e., Brightkite_edges.txt) so that it only contains users (nodes) which checked in at the top location.\n",
    "Load this subpart of the social networks into python (using the NetworkX library)\n",
    "Plot the sub-network in an appealing way. <font color=\"red\">(3 Points)</font>"
   ]
  },
  {
   "cell_type": "code",
   "execution_count": 31,
   "metadata": {
    "collapsed": false
   },
   "outputs": [],
   "source": [
    "list_ids = aggr[aggr.unique_users >= 10]['unique_users'].index[0:10].tolist()\n",
    "list_users_of_top = []\n",
    "for i in range(len(list_ids)): \n",
    "    mask =  (df.locid == list_ids[i]) \n",
    "    list_users_of_top += df[mask]['userid'].tolist()\n",
    "list_users_of_top = list(set(list_users_of_top))"
   ]
  },
  {
   "cell_type": "code",
   "execution_count": 32,
   "metadata": {
    "collapsed": true
   },
   "outputs": [],
   "source": [
    "GUA = nx.Graph()\n",
    "GUA.add_nodes_from(list_users_of_top)\n",
    "GUA.add_edges_from(df_u.values)\n",
    "SGUA = GUA.subgraph(list_users_of_top)"
   ]
  },
  {
   "cell_type": "code",
   "execution_count": 33,
   "metadata": {
    "collapsed": false
   },
   "outputs": [
    {
     "data": {
      "image/png": "[encoded data removed]",
      "text/plain": [
       "<matplotlib.figure.Figure at 0x7fc430f604e0>"
      ]
     },
     "metadata": {},
     "output_type": "display_data"
    }
   ],
   "source": [
    "pos = nx.spring_layout(SGUA, iterations=25)\n",
    "nx.draw_networkx_nodes(SGUA, pos, list_users_of_top, node_color='b', node_size=10)\n",
    "nx.draw_networkx_edges(SGUA, pos)\n",
    "plt.axis('off')\n",
    "plt.show()"
   ]
  },
  {
   "cell_type": "code",
   "execution_count": null,
   "metadata": {
    "collapsed": true
   },
   "outputs": [],
   "source": []
  }
 ],
 "metadata": {
  "css": [
   ""
  ],
  "kernelspec": {
   "display_name": "Python 3",
   "language": "python",
   "name": "python3"
  },
  "language_info": {
   "codemirror_mode": {
    "name": "ipython",
    "version": 3
   },
   "file_extension": ".py",
   "mimetype": "text/x-python",
   "name": "python",
   "nbconvert_exporter": "python",
   "pygments_lexer": "ipython3",
   "version": "3.5.1"
  }
 },
 "nbformat": 4,
 "nbformat_minor": 0
}

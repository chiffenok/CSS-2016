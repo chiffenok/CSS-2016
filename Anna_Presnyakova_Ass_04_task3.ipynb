{
 "cells": [
  {
   "cell_type": "code",
   "execution_count": 35,
   "metadata": {
    "collapsed": false
   },
   "outputs": [
    {
     "name": "stdout",
     "output_type": "stream",
     "text": [
      "Populating the interactive namespace from numpy and matplotlib\n"
     ]
    },
    {
     "name": "stderr",
     "output_type": "stream",
     "text": [
      "WARNING: pylab import has clobbered these variables: ['colors']\n",
      "`%matplotlib` prevents importing * from pylab and numpy\n"
     ]
    }
   ],
   "source": [
    "%pylab inline \n",
    "\n",
    "import matplotlib.pyplot as plt\n",
    "import matplotlib.colors as colors\n",
    "import matplotlib.cm as cmx\n",
    "\n",
    "import networkx as nx\n",
    "import random as rd"
   ]
  },
  {
   "cell_type": "code",
   "execution_count": 36,
   "metadata": {
    "collapsed": false
   },
   "outputs": [],
   "source": [
    "def init_grid_2d_graph(m, n, k, l): \n",
    "    global g\n",
    "    g = nx.grid_2d_graph(m, n) \n",
    "    init_network_state(k, l)"
   ]
  },
  {
   "cell_type": "code",
   "execution_count": 37,
   "metadata": {
    "collapsed": false
   },
   "outputs": [],
   "source": [
    "def init_network_state(k, l):\n",
    "    # k - numbers of features\n",
    "    # l - number of traits per feature\n",
    "    global g\n",
    "    # Set up default values for attributes\n",
    "    for nd in g.nodes():\n",
    "        #print (\"nd: \", g.node[nd])\n",
    "        for i in range(k):\n",
    "            g.node[nd][i] = rd.randrange(0, l, 1)\n",
    "            #print(g.node[nd][i])"
   ]
  },
  {
   "cell_type": "code",
   "execution_count": 38,
   "metadata": {
    "collapsed": false
   },
   "outputs": [],
   "source": [
    "def step_Axelrod(k):\n",
    "    # k - numbers of features\n",
    "    random_node_id = rd.choice(g.nodes())\n",
    "    nbs = rd.choice(g.neighbors(random_node_id))\n",
    "    same_number = 0\n",
    "    diffrent_features = []\n",
    "    for i in range(k):\n",
    "        if g.node[random_node_id][i] == g.node[nbs][i]:\n",
    "            same_number += 1\n",
    "        else:\n",
    "            diffrent_features.append(i)\n",
    "    interaction_probability = same_number/k\n",
    "    if interaction_probability > 0 and interaction_probability >= rd.random() and len(diffrent_features) > 0:\n",
    "        random_feature = rd.choice(diffrent_features)\n",
    "        g.node[random_node_id][random_feature] = g.node[nbs][random_feature]"
   ]
  },
  {
   "cell_type": "code",
   "execution_count": 39,
   "metadata": {
    "collapsed": false
   },
   "outputs": [],
   "source": [
    "def init_step_Axelrod(k, steps):\n",
    "    step = 0\n",
    "    while step < steps:\n",
    "        step_Axelrod(k)\n",
    "        step += 1"
   ]
  },
  {
   "cell_type": "code",
   "execution_count": 40,
   "metadata": {
    "collapsed": false
   },
   "outputs": [],
   "source": [
    "def draw_map(k):\n",
    "    for u,v in g.edges():\n",
    "        same_number = 0\n",
    "        for i in range(k):\n",
    "            if g.node[u][i] == g.node[v][i]:\n",
    "                same_number += 1\n",
    "        weight = same_number/k\n",
    "        # '1 - weight' only used in purporse to get the drawing the same as in paper\n",
    "        # Otherwise colors whould be inverted\n",
    "        # Black edge - nodes has no features in common\n",
    "        # White edge - nodes has completely similar cultures\n",
    "        g[u][v]['weight'] = 1 - weight \n",
    "    edges,weights = zip(*nx.get_edge_attributes(g,'weight').items())\n",
    "    \n",
    "    pos = dict( (n, n) for n in g.nodes() )\n",
    "    nx.draw(g, pos, node_color='b', edgelist=edges, edge_color=weights, width=2.0, node_size=2,\n",
    "            edge_cmap=plt.cm.Greys)"
   ]
  },
  {
   "cell_type": "markdown",
   "metadata": {},
   "source": [
    "### Initializing 1st grid network (10 by 10 nodes) 5 features, 10 traits \n",
    "#### Map of cultures similarities. At the beginning "
   ]
  },
  {
   "cell_type": "code",
   "execution_count": 11,
   "metadata": {
    "collapsed": false
   },
   "outputs": [
    {
     "data": {
      "image/png": "[encoded data removed]",
      "text/plain": [
       "<matplotlib.figure.Figure at 0x7f2e67c5e0f0>"
      ]
     },
     "metadata": {},
     "output_type": "display_data"
    }
   ],
   "source": [
    "init_grid_2d_graph(10, 10, 5, 10)\n",
    "    # 5 - numbers of features\n",
    "    # 10 - number of traits per feature\n",
    "draw_map(5)"
   ]
  },
  {
   "cell_type": "markdown",
   "metadata": {},
   "source": [
    "#### Map of cultures similarities. After 20 000 steps "
   ]
  },
  {
   "cell_type": "code",
   "execution_count": 12,
   "metadata": {
    "collapsed": false
   },
   "outputs": [
    {
     "data": {
      "image/png": "[encoded data removed]",
      "text/plain": [
       "<matplotlib.figure.Figure at 0x7f2e67c64f60>"
      ]
     },
     "metadata": {},
     "output_type": "display_data"
    }
   ],
   "source": [
    "init_step_Axelrod(5, 20000)\n",
    "draw_map(5)"
   ]
  },
  {
   "cell_type": "markdown",
   "metadata": {},
   "source": [
    "#### Map of cultures similarities. After 40 000 steps "
   ]
  },
  {
   "cell_type": "code",
   "execution_count": 13,
   "metadata": {
    "collapsed": false
   },
   "outputs": [
    {
     "data": {
      "image/png": "[encoded data removed]",
      "text/plain": [
       "<matplotlib.figure.Figure at 0x7f2e6a1cbba8>"
      ]
     },
     "metadata": {},
     "output_type": "display_data"
    }
   ],
   "source": [
    "init_step_Axelrod(5, 20000)\n",
    "draw_map(5)"
   ]
  },
  {
   "cell_type": "markdown",
   "metadata": {},
   "source": [
    "#### Map of cultures similarities. After 60 000 steps "
   ]
  },
  {
   "cell_type": "code",
   "execution_count": 14,
   "metadata": {
    "collapsed": false
   },
   "outputs": [
    {
     "data": {
      "image/png": "[encoded data removed]",
      "text/plain": [
       "<matplotlib.figure.Figure at 0x7f2e6769a2e8>"
      ]
     },
     "metadata": {},
     "output_type": "display_data"
    }
   ],
   "source": [
    "init_step_Axelrod(5, 20000)\n",
    "draw_map(5)"
   ]
  },
  {
   "cell_type": "markdown",
   "metadata": {},
   "source": [
    "### Initializing 2nd grid network (10 by 10 nodes) 25 features, 10 traits \n",
    "#### Map of cultures similarities. At the beginning "
   ]
  },
  {
   "cell_type": "code",
   "execution_count": 27,
   "metadata": {
    "collapsed": false
   },
   "outputs": [
    {
     "data": {
      "image/png": "[encoded data removed]",
      "text/plain": [
       "<matplotlib.figure.Figure at 0x7f2e673ef4e0>"
      ]
     },
     "metadata": {},
     "output_type": "display_data"
    }
   ],
   "source": [
    "init_grid_2d_graph(10, 10, 25, 10)\n",
    "    # 5 - numbers of features\n",
    "    # 10 - number of traits per feature\n",
    "draw_map(25)"
   ]
  },
  {
   "cell_type": "markdown",
   "metadata": {},
   "source": [
    "#### Map of cultures similarities. After 20 000 steps "
   ]
  },
  {
   "cell_type": "code",
   "execution_count": 28,
   "metadata": {
    "collapsed": false
   },
   "outputs": [
    {
     "data": {
      "image/png": "[encoded data removed]",
      "text/plain": [
       "<matplotlib.figure.Figure at 0x7f2e901dbb70>"
      ]
     },
     "metadata": {},
     "output_type": "display_data"
    }
   ],
   "source": [
    "init_step_Axelrod(25, 20000)\n",
    "draw_map(25)"
   ]
  },
  {
   "cell_type": "markdown",
   "metadata": {},
   "source": [
    "#### Map of cultures similarities. After 40 000 steps (below) "
   ]
  },
  {
   "cell_type": "code",
   "execution_count": 29,
   "metadata": {
    "collapsed": false
   },
   "outputs": [
    {
     "data": {
      "image/png": "[encoded data removed]",
      "text/plain": [
       "<matplotlib.figure.Figure at 0x7f2e67577588>"
      ]
     },
     "metadata": {},
     "output_type": "display_data"
    }
   ],
   "source": [
    "init_step_Axelrod(25, 20000)\n",
    "draw_map(25)"
   ]
  },
  {
   "cell_type": "markdown",
   "metadata": {},
   "source": [
    "#### Map of cultures similarities. After 60 000 steps (below) "
   ]
  },
  {
   "cell_type": "code",
   "execution_count": 30,
   "metadata": {
    "collapsed": false
   },
   "outputs": [
    {
     "data": {
      "image/png": "[encoded data removed]",
      "text/plain": [
       "<matplotlib.figure.Figure at 0x7f2e67335908>"
      ]
     },
     "metadata": {},
     "output_type": "display_data"
    }
   ],
   "source": [
    "init_step_Axelrod(25, 20000)\n",
    "draw_map(25)"
   ]
  },
  {
   "cell_type": "markdown",
   "metadata": {},
   "source": [
    "### Initializing 3rd grid network (10 by 10 nodes) 5 features, 5 traits \n",
    "#### Map of cultures similarities. At the beginning "
   ]
  },
  {
   "cell_type": "code",
   "execution_count": 31,
   "metadata": {
    "collapsed": false
   },
   "outputs": [
    {
     "data": {
      "image/png": "[encoded data removed]",
      "text/plain": [
       "<matplotlib.figure.Figure at 0x7f2e674a2358>"
      ]
     },
     "metadata": {},
     "output_type": "display_data"
    }
   ],
   "source": [
    "init_grid_2d_graph(10, 10, 5, 5)\n",
    "    # 5 - numbers of features\n",
    "    # 10 - number of traits per feature\n",
    "draw_map(5)"
   ]
  },
  {
   "cell_type": "markdown",
   "metadata": {},
   "source": [
    "#### Map of cultures similarities. After 20 000 steps (below) "
   ]
  },
  {
   "cell_type": "code",
   "execution_count": 32,
   "metadata": {
    "collapsed": false
   },
   "outputs": [
    {
     "data": {
      "image/png": "[encoded data removed]",
      "text/plain": [
       "<matplotlib.figure.Figure at 0x7f2e673121d0>"
      ]
     },
     "metadata": {},
     "output_type": "display_data"
    }
   ],
   "source": [
    "init_step_Axelrod(5, 20000)\n",
    "draw_map(5)"
   ]
  },
  {
   "cell_type": "markdown",
   "metadata": {},
   "source": [
    "#### Map of cultures similarities. After 40 000 steps (below) "
   ]
  },
  {
   "cell_type": "code",
   "execution_count": 33,
   "metadata": {
    "collapsed": false
   },
   "outputs": [
    {
     "data": {
      "image/png": "[encoded data removed]",
      "text/plain": [
       "<matplotlib.figure.Figure at 0x7f2e673443c8>"
      ]
     },
     "metadata": {},
     "output_type": "display_data"
    }
   ],
   "source": [
    "init_step_Axelrod(5, 20000)\n",
    "draw_map(5)"
   ]
  },
  {
   "cell_type": "markdown",
   "metadata": {},
   "source": [
    "#### Map of cultures similarities. After 60 000 steps (below) "
   ]
  },
  {
   "cell_type": "code",
   "execution_count": 34,
   "metadata": {
    "collapsed": false
   },
   "outputs": [
    {
     "data": {
      "image/png": "[encoded data removed]",
      "text/plain": [
       "<matplotlib.figure.Figure at 0x7f2e673a7358>"
      ]
     },
     "metadata": {},
     "output_type": "display_data"
    }
   ],
   "source": [
    "init_step_Axelrod(5, 20000)\n",
    "draw_map(5)"
   ]
  },
  {
   "cell_type": "markdown",
   "metadata": {},
   "source": [
    "## Conclusion"
   ]
  },
  {
   "cell_type": "markdown",
   "metadata": {},
   "source": [
    "I was trying to test 3 cases:\n",
    " - 1 case: 5 features, 10 traits per feature \n",
    " - 2 case: 25 features, 10 traits per feature\n",
    " - 3 case: 5 features, 5 traits per feature\n",
    " \n",
    "All in all, multiple cultures converge to one or couple cultures. We can see the more amounts of features and trait the more amounts of event need to happened to converge in one culture. So the 3rd case with less features and traits per feature converges in one culture already after 60 000 event though other ones have some distinct cultures after the same amount of iterations "
   ]
  }
 ],
 "metadata": {
  "kernelspec": {
   "display_name": "Python 3",
   "language": "python",
   "name": "python3"
  },
  "language_info": {
   "codemirror_mode": {
    "name": "ipython",
    "version": 3
   },
   "file_extension": ".py",
   "mimetype": "text/x-python",
   "name": "python",
   "nbconvert_exporter": "python",
   "pygments_lexer": "ipython3",
   "version": "3.5.1"
  }
 },
 "nbformat": 4,
 "nbformat_minor": 0
}
